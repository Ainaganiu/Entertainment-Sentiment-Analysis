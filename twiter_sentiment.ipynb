{
 "cells": [
  {
   "cell_type": "markdown",
   "id": "22325582",
   "metadata": {},
   "source": [
    "## Twitter Sentiment Analysis\n",
    "---\n",
    "\n",
    "#### Overview of the Project\n",
    "\n",
    "This projects is sed to determine the positive, negative or neutral emotions within the text of a tweet using NLP and ML Models.   \n",
    "\n",
    "**Sentiment Analysis** refers to identifying and categorizing the emotions represented in the text source.\n",
    "When analyzed, tweets may provide a significant quantity of sentiment data. These statistics help us understand how individuals feel about a range of issues on social media.\n",
    "\n",
    "**For this project** we will be using  CRISP-DM (Cross-Industry Standard Process for Data Mining) model, let's go through the project steps and then I'll provide a sample report summarizing the project."
   ]
  },
  {
   "cell_type": "markdown",
   "id": "acac52c4",
   "metadata": {},
   "source": [
    "## 1.0  Business Understanding\n",
    "---\n",
    "This project's goal is to create a Twitter sentiment analysis model utilizing Logistic Regression methods. The model will be trained on a labeled dataset of tweets before being tested on the testing data. This sentiment analysis methodology may give useful insights into public sentiment and attitudes on certain issues.\n"
   ]
  },
  {
   "cell_type": "markdown",
   "id": "de869c11",
   "metadata": {},
   "source": [
    "### Import the Necessary Library\n",
    "---\n",
    "\n"
   ]
  },
  {
   "cell_type": "code",
   "execution_count": 33,
   "id": "83fe7c5a",
   "metadata": {},
   "outputs": [],
   "source": [
    "import re\n",
    "import numpy as np\n",
    "import pandas as pd\n",
    "# plotting\n",
    "import seaborn as sns\n",
    "from wordcloud import WordCloud\n",
    "import matplotlib.pyplot as plt\n",
    "# nltk\n",
    "from nltk.stem import WordNetLemmatizer\n",
    "# sklearn\n",
    "from sklearn.svm import LinearSVC\n",
    "from sklearn.naive_bayes import BernoulliNB\n",
    "from sklearn.linear_model import LogisticRegression\n",
    "from sklearn.model_selection import train_test_split\n",
    "from sklearn.feature_extraction.text import TfidfVectorizer\n",
    "from sklearn.metrics import confusion_matrix, classification_report"
   ]
  },
  {
   "cell_type": "markdown",
   "id": "04c3e0b2",
   "metadata": {},
   "source": [
    "## 2. Data Understanding\n",
    "---\n",
    "This project's dataset is a JSON file with 6443 elements representing tweets from the social media network Twitter, spanning 6 subjects. These tweets were taken from Twitter and human-labeled using Amazon's Mechanical Turk between 2019 and 2021.\n",
    "\n",
    "The categories of tweet cover a variety of topics, namely:\n",
    "0. Arts & Culture\n",
    "1. Business & Entrepreneurs\n",
    "2. Pop Culture\n",
    "3. Daily Life\n",
    "4. Sports & Gaming\n",
    "5. Science & Technology\n"
   ]
  },
  {
   "cell_type": "code",
   "execution_count": 34,
   "id": "dc73d836",
   "metadata": {},
   "outputs": [],
   "source": [
    "# importing the dataset\n",
    "\n",
    "df = pd.read_json('CETM47-22_23-AS2-Data.json')"
   ]
  },
  {
   "cell_type": "code",
   "execution_count": 35,
   "id": "88ac3705",
   "metadata": {},
   "outputs": [
    {
     "name": "stdout",
     "output_type": "stream",
     "text": [
      "                                                   text       date  label  \\\n",
      "0     The {@Clinton LumberKings@} beat the {@Cedar R... 2019-09-08      4   \n",
      "1     I would rather hear Eli Gold announce this Aub... 2019-09-08      4   \n",
      "2     Someone take my phone away, I’m trying to not ... 2019-09-08      4   \n",
      "3     A year ago, Louisville struggled to beat an FC... 2019-09-08      4   \n",
      "4     Anyone know why the #Dodgers #Orioles game nex... 2019-09-08      4   \n",
      "...                                                 ...        ...    ...   \n",
      "6438  Praying for {{USERNAME}} family friends riding... 2021-08-29      3   \n",
      "6439  Etsy: {{USERNAME}} Hi there, I m sorry to hear... 2021-08-29      1   \n",
      "6440  Imagine how hard it is to be a Teume. Everyone... 2021-08-29      2   \n",
      "6441  Ride With Me - Mental Health Awareness Charity... 2021-08-29      2   \n",
      "6442  Prediction: The future of CX in {@McKinsey Com... 2021-08-29      1   \n",
      "\n",
      "                       id                label_name  \n",
      "0     1170516324419866624           sports_&_gaming  \n",
      "1     1170516440690176006           sports_&_gaming  \n",
      "2     1170516543387709440           sports_&_gaming  \n",
      "3     1170516620466429953           sports_&_gaming  \n",
      "4     1170516711411310592           sports_&_gaming  \n",
      "...                   ...                       ...  \n",
      "6438  1431979856120762370                daily_life  \n",
      "6439  1432008666018942977  business_&_entrepreneurs  \n",
      "6440  1432008666803097606               pop_culture  \n",
      "6441  1432069101753491456               pop_culture  \n",
      "6442  1432099700614774784  business_&_entrepreneurs  \n",
      "\n",
      "[6443 rows x 5 columns]\n"
     ]
    }
   ],
   "source": [
    "print(df)"
   ]
  },
  {
   "cell_type": "code",
   "execution_count": 36,
   "id": "b404d8d3",
   "metadata": {},
   "outputs": [
    {
     "data": {
      "text/html": [
       "<div>\n",
       "<style scoped>\n",
       "    .dataframe tbody tr th:only-of-type {\n",
       "        vertical-align: middle;\n",
       "    }\n",
       "\n",
       "    .dataframe tbody tr th {\n",
       "        vertical-align: top;\n",
       "    }\n",
       "\n",
       "    .dataframe thead th {\n",
       "        text-align: right;\n",
       "    }\n",
       "</style>\n",
       "<table border=\"1\" class=\"dataframe\">\n",
       "  <thead>\n",
       "    <tr style=\"text-align: right;\">\n",
       "      <th></th>\n",
       "      <th>text</th>\n",
       "      <th>date</th>\n",
       "      <th>label</th>\n",
       "      <th>id</th>\n",
       "      <th>label_name</th>\n",
       "    </tr>\n",
       "  </thead>\n",
       "  <tbody>\n",
       "    <tr>\n",
       "      <th>239</th>\n",
       "      <td>Currently watching the Doco - Climate Change -...</td>\n",
       "      <td>2019-09-28</td>\n",
       "      <td>2</td>\n",
       "      <td>1177883660835385344</td>\n",
       "      <td>pop_culture</td>\n",
       "    </tr>\n",
       "    <tr>\n",
       "      <th>6349</th>\n",
       "      <td>[P] I just watched The Suicide Squad. I can’t ...</td>\n",
       "      <td>2021-08-08</td>\n",
       "      <td>2</td>\n",
       "      <td>1424243341873590272</td>\n",
       "      <td>pop_culture</td>\n",
       "    </tr>\n",
       "    <tr>\n",
       "      <th>2775</th>\n",
       "      <td>Demon’s Souls could be closer than expected if...</td>\n",
       "      <td>2020-08-21</td>\n",
       "      <td>4</td>\n",
       "      <td>1296717238792323073</td>\n",
       "      <td>sports_&amp;_gaming</td>\n",
       "    </tr>\n",
       "    <tr>\n",
       "      <th>3189</th>\n",
       "      <td>Coz {@Stray Kids@} got AAA best music video aw...</td>\n",
       "      <td>2020-11-29</td>\n",
       "      <td>2</td>\n",
       "      <td>1333198555234791424</td>\n",
       "      <td>pop_culture</td>\n",
       "    </tr>\n",
       "    <tr>\n",
       "      <th>3147</th>\n",
       "      <td>someone said enhypen is running, not walking. ...</td>\n",
       "      <td>2020-11-15</td>\n",
       "      <td>2</td>\n",
       "      <td>1328122647998173184</td>\n",
       "      <td>pop_culture</td>\n",
       "    </tr>\n",
       "    <tr>\n",
       "      <th>1813</th>\n",
       "      <td>EDWARD BARBER sings  Please Stay  {{URL}} via ...</td>\n",
       "      <td>2020-03-29</td>\n",
       "      <td>2</td>\n",
       "      <td>1244201252256223232</td>\n",
       "      <td>pop_culture</td>\n",
       "    </tr>\n",
       "    <tr>\n",
       "      <th>3131</th>\n",
       "      <td>great stat about {@Colorado Buffaloes Football...</td>\n",
       "      <td>2020-11-15</td>\n",
       "      <td>4</td>\n",
       "      <td>1327820119448330242</td>\n",
       "      <td>sports_&amp;_gaming</td>\n",
       "    </tr>\n",
       "    <tr>\n",
       "      <th>6178</th>\n",
       "      <td>stream on the ground  I nominate #ROSÉ  of {@B...</td>\n",
       "      <td>2021-07-04</td>\n",
       "      <td>2</td>\n",
       "      <td>1411592139075690500</td>\n",
       "      <td>pop_culture</td>\n",
       "    </tr>\n",
       "    <tr>\n",
       "      <th>1814</th>\n",
       "      <td>FINALLY some decent virus viewing on the TV - ...</td>\n",
       "      <td>2020-03-29</td>\n",
       "      <td>4</td>\n",
       "      <td>1244230681837920258</td>\n",
       "      <td>sports_&amp;_gaming</td>\n",
       "    </tr>\n",
       "    <tr>\n",
       "      <th>1420</th>\n",
       "      <td>Check out Patrick Mahomes Chiefs Autograph Nam...</td>\n",
       "      <td>2020-02-09</td>\n",
       "      <td>4</td>\n",
       "      <td>1226460470128803841</td>\n",
       "      <td>sports_&amp;_gaming</td>\n",
       "    </tr>\n",
       "  </tbody>\n",
       "</table>\n",
       "</div>"
      ],
      "text/plain": [
       "                                                   text       date  label  \\\n",
       "239   Currently watching the Doco - Climate Change -... 2019-09-28      2   \n",
       "6349  [P] I just watched The Suicide Squad. I can’t ... 2021-08-08      2   \n",
       "2775  Demon’s Souls could be closer than expected if... 2020-08-21      4   \n",
       "3189  Coz {@Stray Kids@} got AAA best music video aw... 2020-11-29      2   \n",
       "3147  someone said enhypen is running, not walking. ... 2020-11-15      2   \n",
       "1813  EDWARD BARBER sings  Please Stay  {{URL}} via ... 2020-03-29      2   \n",
       "3131  great stat about {@Colorado Buffaloes Football... 2020-11-15      4   \n",
       "6178  stream on the ground  I nominate #ROSÉ  of {@B... 2021-07-04      2   \n",
       "1814  FINALLY some decent virus viewing on the TV - ... 2020-03-29      4   \n",
       "1420  Check out Patrick Mahomes Chiefs Autograph Nam... 2020-02-09      4   \n",
       "\n",
       "                       id       label_name  \n",
       "239   1177883660835385344      pop_culture  \n",
       "6349  1424243341873590272      pop_culture  \n",
       "2775  1296717238792323073  sports_&_gaming  \n",
       "3189  1333198555234791424      pop_culture  \n",
       "3147  1328122647998173184      pop_culture  \n",
       "1813  1244201252256223232      pop_culture  \n",
       "3131  1327820119448330242  sports_&_gaming  \n",
       "6178  1411592139075690500      pop_culture  \n",
       "1814  1244230681837920258  sports_&_gaming  \n",
       "1420  1226460470128803841  sports_&_gaming  "
      ]
     },
     "execution_count": 36,
     "metadata": {},
     "output_type": "execute_result"
    }
   ],
   "source": [
    "df.sample(10)"
   ]
  },
  {
   "cell_type": "code",
   "execution_count": 37,
   "id": "e91fea6b",
   "metadata": {},
   "outputs": [
    {
     "data": {
      "text/plain": [
       "6"
      ]
     },
     "execution_count": 37,
     "metadata": {},
     "output_type": "execute_result"
    }
   ],
   "source": [
    "# Let explore the label_name categroy\n",
    "unique_label = df.label_name.nunique()\n",
    "unique_label"
   ]
  },
  {
   "cell_type": "code",
   "execution_count": 38,
   "id": "e8e3204b",
   "metadata": {},
   "outputs": [
    {
     "name": "stdout",
     "output_type": "stream",
     "text": [
      "(6443, 5)\n",
      "There are 6443 rows and 5 columns in the dataset\n"
     ]
    }
   ],
   "source": [
    "# Let check the shape of the data\n",
    "print(df.shape)\n",
    "print('There are {} rows and {} columns in the dataset'.format(df.shape[0],df.shape[1]))"
   ]
  },
  {
   "cell_type": "code",
   "execution_count": 39,
   "id": "f8e2633e",
   "metadata": {},
   "outputs": [
    {
     "name": "stdout",
     "output_type": "stream",
     "text": [
      "<class 'pandas.core.frame.DataFrame'>\n",
      "RangeIndex: 6443 entries, 0 to 6442\n",
      "Data columns (total 5 columns):\n",
      " #   Column      Non-Null Count  Dtype         \n",
      "---  ------      --------------  -----         \n",
      " 0   text        6443 non-null   object        \n",
      " 1   date        6443 non-null   datetime64[ns]\n",
      " 2   label       6443 non-null   int64         \n",
      " 3   id          6443 non-null   int64         \n",
      " 4   label_name  6443 non-null   object        \n",
      "dtypes: datetime64[ns](1), int64(2), object(2)\n",
      "memory usage: 251.8+ KB\n"
     ]
    }
   ],
   "source": [
    "# Getting the data info\n",
    "df.info()\n",
    "# The dataset in this project is a clean data without null values. "
   ]
  },
  {
   "cell_type": "code",
   "execution_count": 40,
   "id": "a16e3727",
   "metadata": {},
   "outputs": [
    {
     "data": {
      "text/plain": [
       "text   date   label  id     label_name\n",
       "False  False  False  False  False         6443\n",
       "dtype: int64"
      ]
     },
     "execution_count": 40,
     "metadata": {},
     "output_type": "execute_result"
    }
   ],
   "source": [
    "# Let further check for null values \n",
    "df.isnull().value_counts()\n",
    "# This further assures that there is no null label in the dataframe"
   ]
  },
  {
   "cell_type": "code",
   "execution_count": 41,
   "id": "acd54517",
   "metadata": {},
   "outputs": [
    {
     "name": "stdout",
     "output_type": "stream",
     "text": [
      "pop_culture                 0.389880\n",
      "sports_&_gaming             0.355580\n",
      "daily_life                  0.137048\n",
      "science_&_technology        0.050598\n",
      "business_&_entrepreneurs    0.044544\n",
      "arts_&_culture              0.022350\n",
      "Name: label_name, dtype: float64 \n",
      " Counts of label_name in percentage\n"
     ]
    },
    {
     "data": {
      "image/png": "[encoded data removed]",
      "text/plain": [
       "<Figure size 720x432 with 1 Axes>"
      ]
     },
     "metadata": {
      "needs_background": "light"
     },
     "output_type": "display_data"
    }
   ],
   "source": [
    "# Let explore the label_name which serves as our target column\n",
    "print(df.label_name.value_counts(normalize=True), '\\n Counts of label_name in percentage') \n",
    "# Let visualize the counts \n",
    "df.label_name.value_counts().sort_values(ascending=True).plot(kind='barh',figsize=(10,6))\n",
    "plt.xlabel('Counts')\n",
    "plt.ylabel('Label Name')\n",
    "plt.title('Label Name Distribution')\n",
    "plt.show()"
   ]
  },
  {
   "cell_type": "code",
   "execution_count": 42,
   "id": "907fa1d4",
   "metadata": {},
   "outputs": [],
   "source": [
    "# Let count each tweet by date \n",
    "tweet_date = df.groupby('date')['date'].transform('count')"
   ]
  },
  {
   "cell_type": "code",
   "execution_count": 43,
   "id": "793f476e",
   "metadata": {},
   "outputs": [
    {
     "data": {
      "image/png": "[encoded data removed]",
      "text/plain": [
       "<Figure size 720x432 with 1 Axes>"
      ]
     },
     "metadata": {
      "needs_background": "light"
     },
     "output_type": "display_data"
    }
   ],
   "source": [
    "# Create a line chart\n",
    "plt.figure(figsize=(10, 6))\n",
    "plt.plot(df['date'], tweet_date, linestyle='-')\n",
    "plt.xlabel('Date')\n",
    "plt.ylabel('Tweet Count')\n",
    "plt.title('Number of Tweets per Date')\n",
    "plt.xticks(rotation=45)\n",
    "\n",
    "# Display the chart\n",
    "plt.show()"
   ]
  },
  {
   "cell_type": "markdown",
   "id": "ba41a080",
   "metadata": {},
   "source": [
    "#### cleaning the text column\n"
   ]
  },
  {
   "cell_type": "code",
   "execution_count": 44,
   "id": "a1cdcd5d",
   "metadata": {},
   "outputs": [
    {
     "data": {
      "text/plain": [
       "6438    praying for {{username}} family friends riding...\n",
       "6439    etsy: {{username}} hi there, i m sorry to hear...\n",
       "6440    imagine how hard it is to be a teume. everyone...\n",
       "6441    ride with me - mental health awareness charity...\n",
       "6442    prediction: the future of cx in {@mckinsey com...\n",
       "Name: text, dtype: object"
      ]
     },
     "execution_count": 44,
     "metadata": {},
     "output_type": "execute_result"
    }
   ],
   "source": [
    "# making the column lowercase\n",
    "df['text'] = df['text'].str.lower()\n",
    "df['text'].tail()"
   ]
  },
  {
   "cell_type": "code",
   "execution_count": 45,
   "id": "8aa8b8b7",
   "metadata": {},
   "outputs": [],
   "source": [
    "# Defining set containing all stopwords in English.\n",
    "stopwordlist = ['a', 'about', 'above', 'after', 'again', 'ain', 'all', 'am', 'an',\n",
    "             'and','any','are', 'as', 'at', 'be', 'because', 'been', 'before',\n",
    "             'being', 'below', 'between','both', 'by', 'can', 'd', 'did', 'do',\n",
    "             'does', 'doing', 'down', 'during', 'each','few', 'for', 'from',\n",
    "             'further', 'had', 'has', 'have', 'having', 'he', 'her', 'here',\n",
    "             'hers', 'herself', 'him', 'himself', 'his', 'how', 'i', 'if', 'in',\n",
    "             'into','is', 'it', 'its', 'itself', 'just', 'll', 'm', 'ma',\n",
    "             'me', 'more', 'most','my', 'myself', 'now', 'o', 'of', 'on', 'once',\n",
    "             'only', 'or', 'other', 'our', 'ours','ourselves', 'out', 'own', 're','s', 'same', 'she', \"shes\", 'should', \"shouldve\",'so', 'some', 'such',\n",
    "             't', 'than', 'that', \"thatll\", 'the', 'their', 'theirs', 'them',\n",
    "             'themselves', 'then', 'there', 'these', 'they', 'this', 'those',\n",
    "             'through', 'to', 'too','under', 'until', 'up', 've', 'very', 'was',\n",
    "             'we', 'were', 'what', 'when', 'where','which','while', 'who', 'whom',\n",
    "             'why', 'will', 'with', 'won', 'y', 'you', \"youd\",\"youll\", \"youre\",\n",
    "             \"youve\", 'your', 'yours', 'yourself', 'yourselves']"
   ]
  },
  {
   "cell_type": "code",
   "execution_count": 46,
   "id": "b467e85d",
   "metadata": {},
   "outputs": [
    {
     "data": {
      "text/plain": [
       "0    {@clinton lumberkings@} beat {@cedar rapids ke...\n",
       "1    would rather hear eli gold announce auburn gam...\n",
       "2    someone take phone away, i’m trying not look {...\n",
       "3    year ago, louisville struggled beat fcs oppone...\n",
       "4    anyone know #dodgers #orioles game next thursd...\n",
       "Name: text, dtype: object"
      ]
     },
     "execution_count": 46,
     "metadata": {},
     "output_type": "execute_result"
    }
   ],
   "source": [
    "STOPWORDS = set(stopwordlist)\n",
    "def cleaning_stopwords(text):\n",
    "    return \" \".join([word for word in str(text).split() if word not in STOPWORDS])\n",
    "df['text'] = df['text'].apply(lambda text: cleaning_stopwords(text))\n",
    "df['text'].head()"
   ]
  },
  {
   "cell_type": "code",
   "execution_count": 47,
   "id": "0a369442",
   "metadata": {},
   "outputs": [
    {
     "data": {
      "text/plain": [
       "6438    praying username family friends riding ida saf...\n",
       "6439    etsy username hi there sorry hear account clos...\n",
       "6440    imagine hard teume everyone against us but loo...\n",
       "6441    ride  mental health awareness charity cycle ri...\n",
       "6442    prediction future cx mckinsey company quarterl...\n",
       "Name: text, dtype: object"
      ]
     },
     "execution_count": 47,
     "metadata": {},
     "output_type": "execute_result"
    }
   ],
   "source": [
    "# Cleaning and removing punctuations\n",
    "import string\n",
    "english_punctuations = string.punctuation\n",
    "punctuations_list = english_punctuations\n",
    "def cleaning_punctuations(text):\n",
    "    translator = str.maketrans('', '', punctuations_list)\n",
    "    return text.translate(translator)\n",
    "df['text']= df['text'].apply(lambda x: cleaning_punctuations(x))\n",
    "df['text'].tail()"
   ]
  },
  {
   "cell_type": "code",
   "execution_count": 48,
   "id": "927f0eb0",
   "metadata": {},
   "outputs": [
    {
     "data": {
      "text/plain": [
       "6438    praying username family friends riding ida saf...\n",
       "6439    etsy username hi there sorry hear account clos...\n",
       "6440    imagine hard teume everyone against us but loo...\n",
       "6441    ride  mental health awareness charity cycle ri...\n",
       "6442    prediction future cx mckinsey company quarterl...\n",
       "Name: text, dtype: object"
      ]
     },
     "execution_count": 48,
     "metadata": {},
     "output_type": "execute_result"
    }
   ],
   "source": [
    "# Cleaning and removing repeating character \n",
    "def cleaning_repeating_char(text):\n",
    "    return re.sub(r'(.)1+', r'1', text)\n",
    "df['text'] = df['text'].apply(lambda x: cleaning_repeating_char(x))\n",
    "df['text'].tail()"
   ]
  },
  {
   "cell_type": "code",
   "execution_count": 49,
   "id": "a713c34b",
   "metadata": {},
   "outputs": [
    {
     "data": {
      "text/plain": [
       "6438    praying username family friends riding ida saf...\n",
       "6439    etsy username hi there sorry hear account clos...\n",
       "6440    imagine hard teume everyone against us but loo...\n",
       "6441    ride  mental health awareness charity cycle ri...\n",
       "6442    prediction future cx mckinsey company quarterl...\n",
       "Name: text, dtype: object"
      ]
     },
     "execution_count": 49,
     "metadata": {},
     "output_type": "execute_result"
    }
   ],
   "source": [
    "# Cleaning and removing URl's\n",
    "def cleaning_URLs(data):\n",
    "    return re.sub('((www.[^s]+)|(https?://[^s]+))',' ',data)\n",
    "df['text'] = df['text'].apply(lambda x: cleaning_URLs(x))\n",
    "df['text'].tail()"
   ]
  },
  {
   "cell_type": "code",
   "execution_count": 50,
   "id": "69502ddb",
   "metadata": {},
   "outputs": [
    {
     "data": {
      "text/plain": [
       "6438    praying username family friends riding ida saf...\n",
       "6439    etsy username hi there sorry hear account clos...\n",
       "6440    imagine hard teume everyone against us but loo...\n",
       "6441    ride  mental health awareness charity cycle ri...\n",
       "6442    prediction future cx mckinsey company quarterl...\n",
       "Name: text, dtype: object"
      ]
     },
     "execution_count": 50,
     "metadata": {},
     "output_type": "execute_result"
    }
   ],
   "source": [
    "# Cleaning and removing numeric characters\n",
    "def cleaning_numbers(data):\n",
    "    return re.sub('[0-9]+', '', data)\n",
    "df['text'] = df['text'].apply(lambda x: cleaning_numbers(x))\n",
    "df['text'].tail()"
   ]
  },
  {
   "cell_type": "markdown",
   "id": "bb6df2b3",
   "metadata": {},
   "source": [
    "### Applying Stemming\n",
    "---\n",
    "\n",
    "Words are sometimes shortened to their roots (or \"stems\") as part of a sentiment analysis.    \n",
    "As a result, the dimensionality of the text data may be decreased and words can be normalised. \n",
    "\n"
   ]
  },
  {
   "cell_type": "code",
   "execution_count": 51,
   "id": "f50de74a",
   "metadata": {},
   "outputs": [
    {
     "data": {
      "text/plain": [
       "0    clinton lumberkings beat cedar rapids kernels ...\n",
       "1    would rather hear eli gold announce auburn gam...\n",
       "2    someone take phone away i’m trying not look ch...\n",
       "3    year ago louisville struggled beat fcs opponen...\n",
       "4    anyone know dodgers orioles game next thursday...\n",
       "Name: text, dtype: object"
      ]
     },
     "execution_count": 51,
     "metadata": {},
     "output_type": "execute_result"
    }
   ],
   "source": [
    "import nltk \n",
    "st = nltk.PorterStemmer()\n",
    "def stemming_on_text(data):\n",
    "    text = [st.stem(word) for word in data]\n",
    "    return data\n",
    "df['text']= df['text'].apply(lambda x: stemming_on_text(x))\n",
    "df['text'].head()"
   ]
  },
  {
   "cell_type": "markdown",
   "id": "b0a60405",
   "metadata": {},
   "source": [
    "#### Apply Lemmatization\n",
    "---\n",
    "\n",
    "Lemmatization is the process of changing a word to its lemma, or dictionary form.   \n",
    "The lemma stands for the standard or authoritative use of a term. Lemmatization uses morphological analysis informed by the word's POS to produce the correct lemma."
   ]
  },
  {
   "cell_type": "code",
   "execution_count": 62,
   "id": "eb32d608",
   "metadata": {},
   "outputs": [
    {
     "name": "stderr",
     "output_type": "stream",
     "text": [
      "[nltk_data] Downloading package wordnet to\n",
      "[nltk_data]     C:\\Users\\User\\AppData\\Roaming\\nltk_data...\n",
      "[nltk_data]   Package wordnet is already up-to-date!\n"
     ]
    },
    {
     "data": {
      "text/plain": [
       "0    clinton lumberkings beat cedar rapids kernels ...\n",
       "1    would rather hear eli gold announce auburn gam...\n",
       "2    someone take phone away i’m trying not look ch...\n",
       "3    year ago louisville struggled beat fcs opponen...\n",
       "4    anyone know dodgers orioles game next thursday...\n",
       "Name: text, dtype: object"
      ]
     },
     "execution_count": 62,
     "metadata": {},
     "output_type": "execute_result"
    }
   ],
   "source": [
    "from nltk.stem import WordNetLemmatizer\n",
    "lm = nltk.WordNetLemmatizer()\n",
    "nltk.download('wordnet')\n",
    "def lemmatizer_on_text(data):\n",
    "    text = [lm.lemmatize(word) for word in data]\n",
    "    return data\n",
    "df['text'] = df['text'].apply(lambda x: lemmatizer_on_text(x))\n",
    "df['text'].head()"
   ]
  },
  {
   "cell_type": "markdown",
   "id": "1eed79aa",
   "metadata": {},
   "source": [
    "#### Separating input feature and label\n",
    "\n"
   ]
  },
  {
   "cell_type": "code",
   "execution_count": 63,
   "id": "bccf4ada",
   "metadata": {},
   "outputs": [],
   "source": [
    "X = df.text\n",
    "y = df.label"
   ]
  },
  {
   "cell_type": "markdown",
   "id": "e0f10b4b",
   "metadata": {},
   "source": [
    "Train and Spliting Data"
   ]
  },
  {
   "cell_type": "code",
   "execution_count": 64,
   "id": "a456b4b1",
   "metadata": {},
   "outputs": [],
   "source": [
    "# Separating the 70% data for training data and 30% for testing data\n",
    "X_train, X_test, y_train, y_test = train_test_split(X,y,test_size = 0.30, random_state = 1)"
   ]
  },
  {
   "cell_type": "markdown",
   "id": "01ea0c6a",
   "metadata": {},
   "source": [
    "####  Transforming the Dataset Using TF-IDF Vectorizer\n",
    "Fit the TF-IDF Vectorizer"
   ]
  },
  {
   "cell_type": "code",
   "execution_count": 65,
   "id": "6510cef8",
   "metadata": {},
   "outputs": [
    {
     "name": "stdout",
     "output_type": "stream",
     "text": [
      "No. of feature_words:  77634\n"
     ]
    }
   ],
   "source": [
    "vectoriser = TfidfVectorizer(ngram_range=(1,2), max_features=500000)\n",
    "vectoriser.fit(X_train)\n",
    "print('No. of feature_words: ', len(vectoriser.get_feature_names()))"
   ]
  },
  {
   "cell_type": "code",
   "execution_count": 66,
   "id": "513ed0dc",
   "metadata": {},
   "outputs": [],
   "source": [
    "# Transform the data using TF-IDF Vectorizer\n",
    "X_train = vectoriser.transform(X_train)\n",
    "X_test  = vectoriser.transform(X_test)"
   ]
  },
  {
   "cell_type": "markdown",
   "id": "fbd285fe",
   "metadata": {},
   "source": [
    "### Building Logistic Regression Model"
   ]
  },
  {
   "cell_type": "code",
   "execution_count": 67,
   "id": "e33c3d31",
   "metadata": {},
   "outputs": [],
   "source": [
    "from sklearn.metrics import roc_curve, auc\n",
    "LRmodel = LogisticRegression(C = 2, max_iter = 1000, n_jobs=-1)\n",
    "LRmodel.fit(X_train, y_train)\n",
    "y_pred = LRmodel.predict(X_test)"
   ]
  },
  {
   "cell_type": "markdown",
   "id": "9f81bc99",
   "metadata": {},
   "source": [
    "### Evaluation\n",
    "---\n",
    "##### jaccard index\n",
    "Lets try jaccard index for accuracy evaluation. we can define jaccard as the size of the intersection divided by the size of the union of two label sets. If the entire set of predicted labels for a sample strictly match with the true set of labels, then the subset accuracy is 1.0; otherwise it is 0.0."
   ]
  },
  {
   "cell_type": "code",
   "execution_count": 68,
   "id": "8f14432d",
   "metadata": {},
   "outputs": [
    {
     "name": "stdout",
     "output_type": "stream",
     "text": [
      " The model accuary is  0.372\n"
     ]
    }
   ],
   "source": [
    "from sklearn.metrics import jaccard_score\n",
    "jacard_value = round(jaccard_score(y_test, y_pred, average= 'macro'),3)\n",
    "print(' The model accuary is ',jacard_value)"
   ]
  },
  {
   "cell_type": "markdown",
   "id": "cf076fb5",
   "metadata": {},
   "source": [
    "### confusion matrix\n",
    "---\n",
    "Another way of looking at accuracy of classifier is to look at confusion matrix."
   ]
  },
  {
   "cell_type": "code",
   "execution_count": 72,
   "id": "08aad011",
   "metadata": {},
   "outputs": [
    {
     "name": "stdout",
     "output_type": "stream",
     "text": [
      "Confusion Matrix:\n",
      "[[  0   0  27  19   5   0]\n",
      " [  0  14  28  11  28   1]\n",
      " [  0   0 660  13  49   3]\n",
      " [  0   3 102 138  51   1]\n",
      " [  0   1  42   6 624   1]\n",
      " [  0   0  41   9  28  28]]\n"
     ]
    }
   ],
   "source": [
    "from sklearn.metrics import confusion_matrix\n",
    "\n",
    "# Make predictions on the testing data\n",
    "y_pred = LRmodel.predict(X_test)\n",
    "\n",
    "# Create a confusion matrix\n",
    "cm = confusion_matrix(y_test, y_pred)\n",
    "\n",
    "# Print the confusion matrix\n",
    "print(\"Confusion Matrix:\")\n",
    "print(cm)\n"
   ]
  },
  {
   "cell_type": "code",
   "execution_count": 86,
   "id": "8da21e67",
   "metadata": {},
   "outputs": [
    {
     "data": {
      "image/png": "[encoded data removed]",
      "text/plain": [
       "<Figure size 432x288 with 2 Axes>"
      ]
     },
     "metadata": {
      "needs_background": "light"
     },
     "output_type": "display_data"
    }
   ],
   "source": [
    "# Visualizing the confusion matrix\n",
    "import seaborn as sns\n",
    "import matplotlib.pyplot as plt\n",
    "\n",
    "# Create a confusion matrix\n",
    "cm = confusion_matrix(y_test, y_pred)\n",
    "\n",
    "# Create a heatmap of the confusion matrix\n",
    "sns.heatmap(cm, annot=True, fmt='d', cmap='Blues')\n",
    "\n",
    "# Add labels, title, and axis ticks\n",
    "\n",
    "plt.xlabel('Predicted Labels')\n",
    "plt.ylabel('True Labels')\n",
    "plt.title('Confusion Matrix')\n",
    "plt.show()\n"
   ]
  },
  {
   "cell_type": "code",
   "execution_count": 80,
   "id": "a74416a0",
   "metadata": {},
   "outputs": [
    {
     "name": "stdout",
     "output_type": "stream",
     "text": [
      "Accuracy: 0.7573719606828764\n",
      "Precision: 0.6389377690212673\n",
      "Recall: 0.45647335203464506\n",
      "F1-score: 0.48496770268552686\n"
     ]
    },
    {
     "name": "stderr",
     "output_type": "stream",
     "text": [
      "C:\\Users\\User\\anaconda3\\lib\\site-packages\\sklearn\\metrics\\_classification.py:1248: UndefinedMetricWarning: Precision is ill-defined and being set to 0.0 in labels with no predicted samples. Use `zero_division` parameter to control this behavior.\n",
      "  _warn_prf(average, modifier, msg_start, len(result))\n"
     ]
    }
   ],
   "source": [
    "# Model Evaluation\n",
    "from sklearn.metrics import accuracy_score, precision_score, recall_score, f1_score\n",
    "\n",
    "# Make predictions on the testing data\n",
    "y_pred = LRmodel.predict(X_test)\n",
    "\n",
    "# Calculate evaluation metrics\n",
    "accuracy = accuracy_score(y_test, y_pred)\n",
    "precision = precision_score(y_test, y_pred, average= 'macro')\n",
    "recall = recall_score(y_test, y_pred,average= 'macro')\n",
    "f1 = f1_score(y_test, y_pred,average= 'macro')\n",
    "\n",
    "# Print the evaluation metrics\n",
    "print(\"Accuracy:\", accuracy)\n",
    "print(\"Precision:\", precision)\n",
    "print(\"Recall:\", recall)\n",
    "print(\"F1-score:\", f1)"
   ]
  },
  {
   "cell_type": "markdown",
   "id": "a0a1d1d0",
   "metadata": {},
   "source": [
    "*Interpretation*\n",
    "---\n",
    "\n",
    "- The accuracy metric evaluates the general accuracy of the forecasts generated by the model. The precision of 0.7574 indicates that the model's predictions on the testing data were accurate approximately 75.74% of the time.\n",
    "- The concept of precision pertains to the proportion of accurately predicted positive labels in a given dataset. The precision value of 0.6389 denotes that nearly 63.89% of the instances that were predicted as positive were true positives, whereas the remaining 36.11% were false positives.\n",
    "- The recall metric, also referred to as sensitivity or true positive rate, denotes the ratio of correctly identified actual positive instances by the model. A recall score of 0.4565 indicates that the model accurately identified roughly 45.65% of the positive instances.\n",
    "- The F1-score is a statistical measure that represents the harmonic mean of precision and recall. The metric offers an equitable evaluation of the model's efficacy by considering both precision and recall. A superior overall performance is indicated by a higher F1-score. The obtained F1-score of 0.4850 indicates a moderate level of performance in this particular case.\n"
   ]
  },
  {
   "cell_type": "code",
   "execution_count": 84,
   "id": "3ef52545",
   "metadata": {},
   "outputs": [
    {
     "data": {
      "image/png": "[encoded data removed]",
      "text/plain": [
       "<Figure size 720x432 with 1 Axes>"
      ]
     },
     "metadata": {
      "needs_background": "light"
     },
     "output_type": "display_data"
    }
   ],
   "source": [
    "# Define the evaluation metrics\n",
    "metrics = ['Accuracy', 'Precision', 'Recall', 'F1-score']\n",
    "values = [accuracy, precision, recall, f1]\n",
    "\n",
    "# Create a bar chart\n",
    "plt.figure(figsize=(10, 6))\n",
    "plt.bar(metrics, values)\n",
    "plt.xlabel('Metrics')\n",
    "plt.ylabel('Score')\n",
    "plt.title('Model Evaluation Metrics')\n",
    "plt.show()"
   ]
  },
  {
   "cell_type": "code",
   "execution_count": 102,
   "id": "569b3d90",
   "metadata": {},
   "outputs": [
    {
     "name": "stdout",
     "output_type": "stream",
     "text": [
      "Enter a text hererobot\n",
      "Predicted sentiment: [2]\n"
     ]
    }
   ],
   "source": [
    "# Preprocess new text data\n",
    "# Let use input for collecting new word\n",
    "new_text = input('Enter a text here')  # Wrap the new text in a list\n",
    "new_text = [str(new_text)]\n",
    "\n",
    "# Transform preprocessed text into numerical features\n",
    "new_features = vectoriser.transform(new_text)  # Use transform instead of fit\n",
    "\n",
    "# Make predictions on the new data\n",
    "new_prediction = LRmodel.predict(new_features)\n",
    "print(\"Predicted sentiment:\", new_prediction)\n"
   ]
  },
  {
   "cell_type": "markdown",
   "id": "713e1eae",
   "metadata": {},
   "source": [
    "The categories of tweet cover a variety of topics, namely:\n",
    "0. Arts & Culture\n",
    "1. Business & Entrepreneurs\n",
    "2. Pop Culture\n",
    "3. Daily Life\n",
    "4. Sports & Gaming\n",
    "5. Science & Technology"
   ]
  },
  {
   "cell_type": "code",
   "execution_count": 94,
   "id": "76e7231c",
   "metadata": {},
   "outputs": [
    {
     "name": "stdout",
     "output_type": "stream",
     "text": [
      "Enter a text heremango\n",
      "mango\n"
     ]
    }
   ],
   "source": [
    "new_text = input('Enter a text here')  # Wrap the new text in a list\n",
    "text = print(new_text)"
   ]
  },
  {
   "cell_type": "code",
   "execution_count": null,
   "id": "2fc5cf19",
   "metadata": {},
   "outputs": [],
   "source": []
  }
 ],
 "metadata": {
  "kernelspec": {
   "display_name": "Python 3 (ipykernel)",
   "language": "python",
   "name": "python3"
  },
  "language_info": {
   "codemirror_mode": {
    "name": "ipython",
    "version": 3
   },
   "file_extension": ".py",
   "mimetype": "text/x-python",
   "name": "python",
   "nbconvert_exporter": "python",
   "pygments_lexer": "ipython3",
   "version": "3.9.7"
  }
 },
 "nbformat": 4,
 "nbformat_minor": 5
}
